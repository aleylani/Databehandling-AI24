{
 "cells": [
  {
   "cell_type": "code",
   "execution_count": null,
   "metadata": {},
   "outputs": [],
   "source": [
    "import time\n",
    "import random\n",
    "import numpy as np\n",
    "import pandas as pd"
   ]
  },
  {
   "cell_type": "markdown",
   "metadata": {},
   "source": [
    "## Pandas Performance\n",
    "\n",
    "**Konsten, och vikten, av att utföra operationer på lämpligt sätt**"
   ]
  },
  {
   "cell_type": "code",
   "execution_count": null,
   "metadata": {},
   "outputs": [],
   "source": [
    "demand_profile_df = pd.read_csv('../data/demand_profile.csv')"
   ]
  },
  {
   "cell_type": "code",
   "execution_count": null,
   "metadata": {},
   "outputs": [],
   "source": [
    "demand_profile_df.head(10)"
   ]
  },
  {
   "cell_type": "code",
   "execution_count": null,
   "metadata": {},
   "outputs": [],
   "source": [
    "demand_profile_df.info()"
   ]
  },
  {
   "cell_type": "markdown",
   "metadata": {},
   "source": [
    "_____"
   ]
  },
  {
   "cell_type": "markdown",
   "metadata": {},
   "source": [
    "## Lite uppvärmning"
   ]
  },
  {
   "cell_type": "markdown",
   "metadata": {},
   "source": [
    "Låt oss omvandla datumn kolumnen till rätt datatype (datetime)"
   ]
  },
  {
   "cell_type": "markdown",
   "metadata": {},
   "source": [
    "**Omvandla till datetime rakt på**"
   ]
  },
  {
   "cell_type": "code",
   "execution_count": null,
   "metadata": {},
   "outputs": [],
   "source": [
    "%%timeit -r 5  # utför koden nedan 5 gånger, och ta medelvärdet av tiden det tar\n",
    "\n",
    "pd.to_datetime(demand_profile_df['date_time'])\n"
   ]
  },
  {
   "cell_type": "markdown",
   "metadata": {},
   "source": [
    "**Omvandla med på förhand angivet format**"
   ]
  },
  {
   "cell_type": "code",
   "execution_count": null,
   "metadata": {},
   "outputs": [],
   "source": [
    "%%timeit -r 5\n",
    "\n",
    "pd.to_datetime(demand_profile_df['date_time'], format='%d/%m/%y %H:%M')\n"
   ]
  },
  {
   "cell_type": "code",
   "execution_count": null,
   "metadata": {},
   "outputs": [],
   "source": [
    "# Ok nice, omvandla nu kolumnen till datetime med den bättre av meoderna ovan\n",
    "\n",
    "demand_profile_df['date_time'] = pd.to_datetime(demand_profile_df['date_time'], format='%d/%m/%y %H:%M')\n"
   ]
  },
  {
   "cell_type": "markdown",
   "metadata": {},
   "source": [
    "______"
   ]
  },
  {
   "cell_type": "markdown",
   "metadata": {},
   "source": [
    "Låt oss nu skapa ett större dataset."
   ]
  },
  {
   "cell_type": "code",
   "execution_count": null,
   "metadata": {},
   "outputs": [],
   "source": [
    "# Create a sample DataFrame\n",
    "\n",
    "\n",
    "n = 1000000  # en miljon rader\n",
    "\n",
    "df = pd.DataFrame({\n",
    "                    'A': np.random.randint(0, 100, n),\n",
    "                    'B': np.random.randint(0, 100, n),\n",
    "                    'C' : np.random.randint(0, 100, n)\n",
    "                  })\n",
    "\n",
    "df\n"
   ]
  },
  {
   "cell_type": "markdown",
   "metadata": {},
   "source": [
    "_____"
   ]
  },
  {
   "cell_type": "markdown",
   "metadata": {},
   "source": [
    "Anta nu att vi vill utföra en funktion, rad för rad i våran dataframe.\n",
    "\n",
    "Exempelvis att vi vill summera kolumnerna A,B,C - rad för rad."
   ]
  },
  {
   "cell_type": "markdown",
   "metadata": {},
   "source": [
    "**Bad Practice #1: for-loop**\n",
    "\n",
    "Det absolut **sämsta** sättet att lösa vårt problem på - EJ REKOMMENDERAT!"
   ]
  },
  {
   "cell_type": "code",
   "execution_count": null,
   "metadata": {},
   "outputs": [],
   "source": [
    "result = []\n",
    "\n",
    "\n",
    "start = time.time()\n",
    "\n",
    "for i in range(len(df)):\n",
    "    \n",
    "    result.append(df.loc[i, 'A'] + df.loc[i, 'B'] + df.loc[i, 'C'])\n",
    "\n",
    "end = time.time()\n",
    "\n",
    "df['Sum'] = result\n",
    "\n",
    "print(f\"For loop execution time: {end - start:.4f} seconds\")"
   ]
  },
  {
   "cell_type": "markdown",
   "metadata": {},
   "source": [
    "**Bad Practice #2: df.iterrows()**\n",
    "\n",
    "Pandas har en inbyggt metod (iterrows) för att loopa igenom rader i en dataframe. Detta är dock fortfarande **mycket** långsamt, och bör undvikas.\n",
    "\n"
   ]
  },
  {
   "cell_type": "code",
   "execution_count": null,
   "metadata": {},
   "outputs": [],
   "source": [
    "result = []\n",
    "\n",
    "start = time.time()\n",
    "for index, row in df.iterrows():               # loops through the index and rows of the dataframe\n",
    "\n",
    "    result.append(row['A']+row['B']+row['C'])\n",
    "end = time.time()\n",
    "\n",
    "df['Sum'] = result\n",
    "\n",
    "print(f\"iterrows execution time: {end - start:.4f} seconds\")"
   ]
  },
  {
   "cell_type": "markdown",
   "metadata": {},
   "source": [
    "**Better Practice #1: df.apply()**\n",
    "\n",
    "Pandas har en inbyggd metod (apply) för att tillämpa en funktion på en dataframe. Detta är snabbare och effektivare metod, och bör användas istället för for-loops och iterrows."
   ]
  },
  {
   "cell_type": "code",
   "execution_count": null,
   "metadata": {},
   "outputs": [],
   "source": [
    "def compute_sum(row):\n",
    "    return row['A'] + row['B'] + row['C']\n",
    "\n",
    "start = time.time()\n",
    "\n",
    "df.apply(compute_sum, axis=1)   # axis=1 means apply the function to each row\n",
    "\n",
    "end = time.time()\n",
    "\n",
    "print(f\"apply execution time: {end - start:.4f} seconds\")"
   ]
  },
  {
   "cell_type": "markdown",
   "metadata": {},
   "source": [
    "**Best Practice #1: Vectorized Operations**"
   ]
  },
  {
   "cell_type": "code",
   "execution_count": null,
   "metadata": {},
   "outputs": [],
   "source": [
    "start = time.time()\n",
    "\n",
    "df['Sum'] = df['A'] + df['B'] + df['C']\n",
    "\n",
    "end = time.time()\n",
    "\n",
    "print(f\"Vectorized execution time: {end - start:.4f} seconds\")"
   ]
  },
  {
   "cell_type": "markdown",
   "metadata": {},
   "source": [
    "_____"
   ]
  },
  {
   "cell_type": "markdown",
   "metadata": {},
   "source": [
    "Anta att vi nu vill göra något lite mer komplicerat än att bara summera kolumnerna.\n",
    "\n",
    "Låt oss återgå till vår ursprungliga dataframe.\n"
   ]
  },
  {
   "cell_type": "code",
   "execution_count": null,
   "metadata": {},
   "outputs": [],
   "source": [
    "demand_profile_df\n"
   ]
  },
  {
   "cell_type": "markdown",
   "metadata": {},
   "source": [
    "Anta att vi vill ll skapa en ny kolumn, som anger den faktiska kostnaden för den förbrukade elen.\n",
    "\n",
    "Som ni kanska känner till kostar el olika mycket per kwh beroende på tid på dygnet.\n",
    "\n",
    "Anta vidare att fölande gäller:\n",
    "\n",
    "* **Peak-tid** är mellan kl 17 och 24, och priset är då 28 öre / kWh.\n",
    "* **Off-peak-tid** är mellan kl 00 och 07, och priset är då 18 öre / kWh.\n",
    "* **Shoulder-tid** är mellan kl 07 och 17, och priset är då 22 öre / kWh."
   ]
  },
  {
   "cell_type": "markdown",
   "metadata": {},
   "source": [
    "Vi vill nu skapa en ny kolumn *cost*, som anger respektive totalpris priset för den förbrukade elen i varje rad data ovan."
   ]
  },
  {
   "cell_type": "markdown",
   "metadata": {},
   "source": [
    "Option 1: med apply.\n",
    "\n",
    "Funkar, men är inte bäst."
   ]
  },
  {
   "cell_type": "code",
   "execution_count": null,
   "metadata": {},
   "outputs": [],
   "source": [
    "def calculate_cost(row):\n",
    "\n",
    "    if row['date_time'].hour >= 17 and row['date_time'].hour <= 24:\n",
    "         return row['energy_kwh'] * 0.28\n",
    "    \n",
    "    elif row['date_time'].hour >= 0 and row['date_time'].hour <= 7:\n",
    "         return row['energy_kwh'] * 0.18\n",
    "    \n",
    "    else:\n",
    "         return row['energy_kwh'] * 0.22\n",
    "    \n",
    "\n",
    "demand_profile_df['cost'] = demand_profile_df.apply(calculate_cost, axis=1)\n",
    "\n",
    "demand_profile_df\n"
   ]
  },
  {
   "cell_type": "markdown",
   "metadata": {},
   "source": [
    "Man skulle kunna for-loopa, men det su*er! Apply skulle varit bättre, men låt oss istället försöka med det bästa - **vektoriserat!**  "
   ]
  },
  {
   "cell_type": "code",
   "execution_count": null,
   "metadata": {},
   "outputs": [],
   "source": [
    "peak_demand_filter = demand_profile_df['date_time'].dt.hour.between(17, 24)\n",
    "off_peak_demand_filter = demand_profile_df['date_time'].dt.hour.between(0, 7)\n",
    "shoulder_demand_filter = ~(peak_demand_filter | off_peak_demand_filter)\n",
    "\n",
    "demand_profile_df.loc[peak_demand_filter, 'cost'] = demand_profile_df.loc[peak_demand_filter, 'energy_kwh'] * 0.28\n",
    "demand_profile_df.loc[off_peak_demand_filter, 'cost'] = demand_profile_df.loc[off_peak_demand_filter, 'energy_kwh'] * 0.18\n",
    "demand_profile_df.loc[shoulder_demand_filter, 'cost'] = demand_profile_df.loc[shoulder_demand_filter, 'energy_kwh'] * 0.22"
   ]
  },
  {
   "cell_type": "markdown",
   "metadata": {},
   "source": [
    "_____"
   ]
  },
  {
   "cell_type": "markdown",
   "metadata": {},
   "source": [
    "Du kan läsa mer på följande site!\n",
    "\n",
    "https://realpython.com/fast-flexible-pandas/"
   ]
  }
 ],
 "metadata": {
  "kernelspec": {
   "display_name": "hf2",
   "language": "python",
   "name": "python3"
  },
  "language_info": {
   "codemirror_mode": {
    "name": "ipython",
    "version": 3
   },
   "file_extension": ".py",
   "mimetype": "text/x-python",
   "name": "python",
   "nbconvert_exporter": "python",
   "pygments_lexer": "ipython3",
   "version": "3.11.10"
  }
 },
 "nbformat": 4,
 "nbformat_minor": 2
}
